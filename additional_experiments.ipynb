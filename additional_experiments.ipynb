{
 "cells": [
  {
   "cell_type": "code",
   "execution_count": 1,
   "metadata": {},
   "outputs": [
    {
     "name": "stderr",
     "output_type": "stream",
     "text": [
      "/home/lorenzoquerol/miniconda3/envs/JEMPP/lib/python3.11/site-packages/tqdm/auto.py:21: TqdmWarning: IProgress not found. Please update jupyter and ipywidgets. See https://ipywidgets.readthedocs.io/en/stable/user_install.html\n",
      "  from .autonotebook import tqdm as notebook_tqdm\n"
     ]
    },
    {
     "ename": "ImportError",
     "evalue": "cannot import name 'mplDeprecation' from 'matplotlib._api.deprecation' (/home/lorenzoquerol/miniconda3/envs/JEMPP/lib/python3.11/site-packages/matplotlib/_api/deprecation.py)",
     "output_type": "error",
     "traceback": [
      "\u001b[0;31m---------------------------------------------------------------------------\u001b[0m",
      "\u001b[0;31mImportError\u001b[0m                               Traceback (most recent call last)",
      "Cell \u001b[0;32mIn[1], line 7\u001b[0m\n\u001b[1;32m      5\u001b[0m \u001b[38;5;28;01mimport\u001b[39;00m \u001b[38;5;21;01mtorch\u001b[39;00m \u001b[38;5;28;01mas\u001b[39;00m \u001b[38;5;21;01mt\u001b[39;00m\n\u001b[1;32m      6\u001b[0m \u001b[38;5;28;01mfrom\u001b[39;00m \u001b[38;5;21;01msklearn\u001b[39;00m\u001b[38;5;21;01m.\u001b[39;00m\u001b[38;5;21;01mmanifold\u001b[39;00m \u001b[38;5;28;01mimport\u001b[39;00m TSNE\n\u001b[0;32m----> 7\u001b[0m \u001b[38;5;28;01mimport\u001b[39;00m \u001b[38;5;21;01mmatplotlib\u001b[39;00m\u001b[38;5;21;01m.\u001b[39;00m\u001b[38;5;21;01mpyplot\u001b[39;00m \u001b[38;5;28;01mas\u001b[39;00m \u001b[38;5;21;01mplt\u001b[39;00m\n\u001b[1;32m      8\u001b[0m \u001b[38;5;28;01mimport\u001b[39;00m \u001b[38;5;21;01mpandas\u001b[39;00m \u001b[38;5;28;01mas\u001b[39;00m \u001b[38;5;21;01mpd\u001b[39;00m\n\u001b[1;32m      9\u001b[0m \u001b[38;5;28;01mfrom\u001b[39;00m \u001b[38;5;21;01mtqdm\u001b[39;00m \u001b[38;5;28;01mimport\u001b[39;00m tqdm\n",
      "File \u001b[0;32m~/miniconda3/envs/JEMPP/lib/python3.11/site-packages/matplotlib/__init__.py:161\u001b[0m\n\u001b[1;32m    157\u001b[0m \u001b[38;5;28;01mfrom\u001b[39;00m \u001b[38;5;21;01mpackaging\u001b[39;00m\u001b[38;5;21;01m.\u001b[39;00m\u001b[38;5;21;01mversion\u001b[39;00m \u001b[38;5;28;01mimport\u001b[39;00m parse \u001b[38;5;28;01mas\u001b[39;00m parse_version\n\u001b[1;32m    159\u001b[0m \u001b[38;5;66;03m# cbook must import matplotlib only within function\u001b[39;00m\n\u001b[1;32m    160\u001b[0m \u001b[38;5;66;03m# definitions, so it is safe to import from it here.\u001b[39;00m\n\u001b[0;32m--> 161\u001b[0m \u001b[38;5;28;01mfrom\u001b[39;00m \u001b[38;5;21;01m.\u001b[39;00m \u001b[38;5;28;01mimport\u001b[39;00m _api, _version, cbook, _docstring, rcsetup\n\u001b[1;32m    162\u001b[0m \u001b[38;5;28;01mfrom\u001b[39;00m \u001b[38;5;21;01mmatplotlib\u001b[39;00m\u001b[38;5;21;01m.\u001b[39;00m\u001b[38;5;21;01mcbook\u001b[39;00m \u001b[38;5;28;01mimport\u001b[39;00m sanitize_sequence\n\u001b[1;32m    163\u001b[0m \u001b[38;5;28;01mfrom\u001b[39;00m \u001b[38;5;21;01mmatplotlib\u001b[39;00m\u001b[38;5;21;01m.\u001b[39;00m\u001b[38;5;21;01m_api\u001b[39;00m \u001b[38;5;28;01mimport\u001b[39;00m MatplotlibDeprecationWarning\n",
      "File \u001b[0;32m~/miniconda3/envs/JEMPP/lib/python3.11/site-packages/matplotlib/cbook/__init__.py:32\u001b[0m\n\u001b[1;32m     30\u001b[0m \u001b[38;5;28;01mimport\u001b[39;00m \u001b[38;5;21;01mmatplotlib\u001b[39;00m\n\u001b[1;32m     31\u001b[0m \u001b[38;5;28;01mfrom\u001b[39;00m \u001b[38;5;21;01mmatplotlib\u001b[39;00m \u001b[38;5;28;01mimport\u001b[39;00m _api, _c_internal_utils\n\u001b[0;32m---> 32\u001b[0m \u001b[38;5;28;01mfrom\u001b[39;00m \u001b[38;5;21;01mmatplotlib\u001b[39;00m\u001b[38;5;21;01m.\u001b[39;00m\u001b[38;5;21;01m_api\u001b[39;00m\u001b[38;5;21;01m.\u001b[39;00m\u001b[38;5;21;01mdeprecation\u001b[39;00m \u001b[38;5;28;01mimport\u001b[39;00m (\n\u001b[1;32m     33\u001b[0m     MatplotlibDeprecationWarning, mplDeprecation)\n\u001b[1;32m     36\u001b[0m \u001b[38;5;129m@_api\u001b[39m\u001b[38;5;241m.\u001b[39mdeprecated(\u001b[38;5;124m\"\u001b[39m\u001b[38;5;124m3.4\u001b[39m\u001b[38;5;124m\"\u001b[39m)\n\u001b[1;32m     37\u001b[0m \u001b[38;5;28;01mdef\u001b[39;00m \u001b[38;5;21mdeprecated\u001b[39m(\u001b[38;5;241m*\u001b[39margs, \u001b[38;5;241m*\u001b[39m\u001b[38;5;241m*\u001b[39mkwargs):\n\u001b[1;32m     38\u001b[0m     \u001b[38;5;28;01mreturn\u001b[39;00m _api\u001b[38;5;241m.\u001b[39mdeprecated(\u001b[38;5;241m*\u001b[39margs, \u001b[38;5;241m*\u001b[39m\u001b[38;5;241m*\u001b[39mkwargs)\n",
      "\u001b[0;31mImportError\u001b[0m: cannot import name 'mplDeprecation' from 'matplotlib._api.deprecation' (/home/lorenzoquerol/miniconda3/envs/JEMPP/lib/python3.11/site-packages/matplotlib/_api/deprecation.py)"
     ]
    }
   ],
   "source": [
    "from utils import parse_args\n",
    "from DataModule import DataModule\n",
    "from models.JEM import get_model, get_optim\n",
    "from accelerate.utils import set_seed\n",
    "import torch as t\n",
    "from sklearn.manifold import TSNE\n",
    "import matplotlib.pyplot as plt\n",
    "import pandas as pd\n",
    "from tqdm import tqdm"
   ]
  },
  {
   "cell_type": "code",
   "execution_count": null,
   "metadata": {},
   "outputs": [
    {
     "name": "stderr",
     "output_type": "stream",
     "text": [
      "usage: ipykernel_launcher.py [-h] [--model MODEL] [--lr LR] [--optim OPTIM]\n",
      "                             [--norm {none,batch}]\n",
      "                             [--decay_epochs DECAY_EPOCHS [DECAY_EPOCHS ...]]\n",
      "                             [--px PX] [--pyx PYX] [--l2 L2]\n",
      "                             [--n_steps N_STEPS] [--in_steps IN_STEPS]\n",
      "                             [--query_size QUERY_SIZE]\n",
      "                             [--sample_method SAMPLE_METHOD] [--test]\n",
      "                             [--temp_scale] [--dataset DATASET]\n",
      "                             [--width WIDTH] [--depth DEPTH]\n",
      "                             [--decay_rate DECAY_RATE] [--n_epochs N_EPOCHS]\n",
      "                             [--batch_size BATCH_SIZE] [--clf_only CLF_ONLY]\n",
      "                             [--warmup_iters WARMUP_ITERS]\n",
      "                             [--dropout_rate DROPOUT_RATE] [--sigma SIGMA]\n",
      "                             [--weight_decay WEIGHT_DECAY]\n",
      "                             [--buffer_size BUFFER_SIZE]\n",
      "                             [--reinit_freq REINIT_FREQ] [--sgld_lr SGLD_LR]\n",
      "                             [--sgld_std SGLD_STD] [--pyld_lr PYLD_LR]\n",
      "                             [--eps EPS] [--seed SEED] [--root_dir ROOT_DIR]\n",
      "                             [--labels_per_class LABELS_PER_CLASS]\n",
      "                             [--log_dir LOG_DIR] [--test_dir TEST_DIR]\n",
      "                             [--ckpt_dir CKPT_DIR] [--ckpt_type CKPT_TYPE]\n",
      "                             [--exp_name EXP_NAME]\n",
      "                             [--sample_every_n_epochs SAMPLE_EVERY_N_EPOCHS]\n",
      "ipykernel_launcher.py: error: unrecognized arguments: --f=/home/lorenzoquerol/.local/share/jupyter/runtime/kernel-v2-1388103FOJIuzPgmphn.json\n"
     ]
    },
    {
     "ename": "SystemExit",
     "evalue": "2",
     "output_type": "error",
     "traceback": [
      "An exception has occurred, use %tb to see the full traceback.\n",
      "\u001b[0;31mSystemExit\u001b[0m\u001b[0;31m:\u001b[0m 2\n"
     ]
    },
    {
     "name": "stderr",
     "output_type": "stream",
     "text": [
      "/home/lorenzoquerol/miniconda3/envs/JEMPP/lib/python3.11/site-packages/IPython/core/interactiveshell.py:3561: UserWarning: To exit: use 'exit', 'quit', or Ctrl-D.\n",
      "  warn(\"To exit: use 'exit', 'quit', or Ctrl-D.\", stacklevel=1)\n"
     ]
    }
   ],
   "source": [
    "args = parse_args()\n",
    "set_seed(args.seed)"
   ]
  },
  {
   "cell_type": "code",
   "execution_count": null,
   "metadata": {},
   "outputs": [],
   "source": [
    "datamodule = DataModule()\n",
    "dload_train, dload_train_labeled, dload_train_unlabeled, dload_valid, train_labeled_inds, train_unlabeled_inds = datamodule.get_data()\n",
    "\n",
    "f = get_model(datamodule, args)\n",
    "\n",
    "ckpt = t.load(\"/home/lorenzo/repos/JEMPP/runs/2023-12-06_21-11-29_bloodmnist_l760ez83/checkpoints/baseline_6400/epoch=77-val_loss=0.1389.ckpt\")\n",
    "f.load_state_dict(ckpt[\"model_state_dict\"])\n",
    "\n",
    "# generate features\n",
    "features = []\n",
    "labels = []\n",
    "device = \"cuda\" if t.cuda.is_available() else \"cpu\"\n",
    "\n",
    "f = f.to(device)\n",
    "for i, (x, y) in enumerate(tqdm(dload_train, desc=\"Generating features\")):\n",
    "    x, y = x.to(device), y.to(device)\n",
    "    features.append(f.feature(x).detach().cpu())\n",
    "    labels.append(y.detach().cpu())\n",
    "\n",
    "features = t.cat(features, dim=0)\n",
    "labels = t.cat(labels, dim=0)\n",
    "\n",
    "tsne = TSNE(random_state=args.seed)\n",
    "tsne_output = tsne.fit_transform(features)\n",
    "\n",
    "df = pd.DataFrame(tsne_output, columns=[\"x\", \"y\"])\n",
    "df[\"targets\"] = labels\n",
    "df[\"targets\"] = df[\"targets\"].apply(lambda x: datamodule.classes[x])\n",
    "\n",
    "plt.rcParams[\"figure.figsize\"] = 10, 10\n",
    "scatter_plot = plt.scatter(\n",
    "    x=\"x\",\n",
    "    y=\"y\",\n",
    "    marker=\"o\",\n",
    "    alpha=0.75,\n",
    ")\n",
    "scatter_plot.legend(bbox_to_anchor=(1.05, 1), loc=\"upper right\")\n",
    "\n",
    "plt.xticks([])\n",
    "plt.yticks([])\n",
    "plt.xlabel(\"\")\n",
    "plt.ylabel(\"\")\n",
    "\n",
    "plt.show()"
   ]
  }
 ],
 "metadata": {
  "kernelspec": {
   "display_name": "JEMPP",
   "language": "python",
   "name": "python3"
  },
  "language_info": {
   "codemirror_mode": {
    "name": "ipython",
    "version": 3
   },
   "file_extension": ".py",
   "mimetype": "text/x-python",
   "name": "python",
   "nbconvert_exporter": "python",
   "pygments_lexer": "ipython3",
   "version": "3.11.6"
  }
 },
 "nbformat": 4,
 "nbformat_minor": 2
}
